{
 "cells": [
  {
   "cell_type": "code",
   "execution_count": 1,
   "metadata": {},
   "outputs": [
    {
     "name": "stderr",
     "output_type": "stream",
     "text": [
      "/home/laxmansinghtomar/assignments/venv/lib/python3.9/site-packages/tqdm/auto.py:21: TqdmWarning: IProgress not found. Please update jupyter and ipywidgets. See https://ipywidgets.readthedocs.io/en/stable/user_install.html\n",
      "  from .autonotebook import tqdm as notebook_tqdm\n"
     ]
    }
   ],
   "source": [
    "import nltk\n",
    "import numpy as np\n",
    "from textblob import TextBlob\n",
    "from sklearn.feature_extraction.text import TfidfVectorizer\n",
    "from sklearn.metrics.pairwise import cosine_similarity\n",
    "from transformers import AutoTokenizer, AutoModel"
   ]
  },
  {
   "cell_type": "code",
   "execution_count": 2,
   "metadata": {},
   "outputs": [
    {
     "name": "stderr",
     "output_type": "stream",
     "text": [
      "[nltk_data] Downloading package brown to\n",
      "[nltk_data]     /home/laxmansinghtomar/nltk_data...\n",
      "[nltk_data]   Package brown is already up-to-date!\n",
      "[nltk_data] Downloading package stopwords to\n",
      "[nltk_data]     /home/laxmansinghtomar/nltk_data...\n",
      "[nltk_data]   Unzipping corpora/stopwords.zip.\n"
     ]
    },
    {
     "name": "stdout",
     "output_type": "stream",
     "text": [
      "[nltk_data] Downloading package brown to\n",
      "[nltk_data]     /home/laxmansinghtomar/nltk_data...\n",
      "[nltk_data]   Package brown is already up-to-date!\n",
      "[nltk_data] Downloading package punkt to\n",
      "[nltk_data]     /home/laxmansinghtomar/nltk_data...\n",
      "[nltk_data]   Package punkt is already up-to-date!\n",
      "[nltk_data] Downloading package wordnet to\n",
      "[nltk_data]     /home/laxmansinghtomar/nltk_data...\n",
      "[nltk_data]   Package wordnet is already up-to-date!\n",
      "[nltk_data] Downloading package averaged_perceptron_tagger to\n",
      "[nltk_data]     /home/laxmansinghtomar/nltk_data...\n",
      "[nltk_data]   Package averaged_perceptron_tagger is already up-to-\n",
      "[nltk_data]       date!\n",
      "[nltk_data] Downloading package conll2000 to\n",
      "[nltk_data]     /home/laxmansinghtomar/nltk_data...\n",
      "[nltk_data]   Package conll2000 is already up-to-date!\n",
      "[nltk_data] Downloading package movie_reviews to\n",
      "[nltk_data]     /home/laxmansinghtomar/nltk_data...\n",
      "[nltk_data]   Package movie_reviews is already up-to-date!\n",
      "Finished.\n"
     ]
    }
   ],
   "source": [
    "nltk.download('brown')\n",
    "nltk.download('stopwords')\n",
    "!python -m textblob.download_corpora"
   ]
  },
  {
   "cell_type": "code",
   "execution_count": 3,
   "metadata": {},
   "outputs": [],
   "source": [
    "model_name = \"microsoft/MiniLM-L12-H384-uncased\"\n",
    "tokenizer = AutoTokenizer.from_pretrained(model_name)\n",
    "model = AutoModel.from_pretrained(model_name)"
   ]
  },
  {
   "cell_type": "code",
   "execution_count": 4,
   "metadata": {},
   "outputs": [],
   "source": [
    "import torch\n",
    "import re\n",
    "\n",
    "def calculate_flesch_reading_ease(text):\n",
    "    # Remove punctuation from the text\n",
    "    text = re.sub(r'[^\\w\\s]', '', text)\n",
    "\n",
    "    # Split the text into sentences and words\n",
    "    sentences = re.split(r'[.!?]', text)\n",
    "    words = re.findall(r'\\w+', text)\n",
    "\n",
    "    # Calculate the average number of words per sentence\n",
    "    average_words_per_sentence = len(words) / len(sentences)\n",
    "\n",
    "    # Calculate the average number of syllables per word\n",
    "    total_syllables = 0\n",
    "    for word in words:\n",
    "        total_syllables += count_syllables(word)\n",
    "    average_syllables_per_word = total_syllables / len(words)\n",
    "\n",
    "    # Calculate the Flesch Reading Ease score\n",
    "    fre_score = 206.835 - (1.015 * average_words_per_sentence) - (84.6 * average_syllables_per_word)\n",
    "\n",
    "    return fre_score\n",
    "\n",
    "import pyphen\n",
    "\n",
    "dic = pyphen.Pyphen(lang='en')\n",
    "\n",
    "def count_syllables(word):\n",
    "    hyphenated_word = dic.inserted(word)\n",
    "    syllables = hyphenated_word.split('-')\n",
    "    return len(syllables)"
   ]
  },
  {
   "cell_type": "code",
   "execution_count": 5,
   "metadata": {},
   "outputs": [
    {
     "name": "stderr",
     "output_type": "stream",
     "text": [
      "Downloading model.safetensors: 100%|██████████| 1.63G/1.63G [00:47<00:00, 34.7MB/s]\n",
      "Downloading (…)okenizer_config.json: 100%|██████████| 26.0/26.0 [00:00<00:00, 3.15kB/s]\n",
      "Downloading (…)olve/main/vocab.json: 100%|██████████| 899k/899k [00:00<00:00, 969kB/s]\n",
      "Downloading (…)olve/main/merges.txt: 100%|██████████| 456k/456k [00:00<00:00, 3.28MB/s]\n",
      "Downloading (…)/main/tokenizer.json: 100%|██████████| 1.36M/1.36M [00:00<00:00, 4.22MB/s]\n"
     ]
    }
   ],
   "source": [
    "from transformers import pipeline\n",
    "\n",
    "# Create a zero-shot classification pipeline using the BART-large-mnli model\n",
    "zero_shot_pipeline = pipeline(\"zero-shot-classification\", model=\"facebook/bart-large-mnli\")"
   ]
  },
  {
   "cell_type": "code",
   "execution_count": 45,
   "metadata": {},
   "outputs": [],
   "source": [
    "import re\n",
    "from collections import Counter\n",
    "from nltk.corpus import stopwords\n",
    "\n",
    "def preprocess_text(text):\n",
    "    # Convert text to lowercase\n",
    "    text = text.lower()\n",
    "\n",
    "    # Remove newline characters\n",
    "    text = re.sub(r'\\n', ' ', text)\n",
    "\n",
    "    # Remove punctuation\n",
    "    text = re.sub(r'[^\\w\\s]', '', text)\n",
    "\n",
    "    # Remove extra whitespace\n",
    "    text = re.sub(r'\\s+', ' ', text).strip()\n",
    "\n",
    "    return text\n",
    "\n",
    "\n",
    "def sentiment_alignment(text, summary):\n",
    "    text = preprocess_text(text)\n",
    "    summary = preprocess_text(summary)\n",
    "        \n",
    "    # Define the class names\n",
    "    class_names = [\"positive\", \"negative\", \"mixed\"]\n",
    "    \n",
    "    # Get sentiment scores using the BART-large-mnli model\n",
    "    text_sentiment = zero_shot_pipeline(text, class_names)\n",
    "    text_output = text_sentiment['labels'][text_sentiment['scores'].index(max(text_sentiment['scores']))]\n",
    "    \n",
    "    summary_sentiment = zero_shot_pipeline(summary, class_names)\n",
    "    summary_output = summary_sentiment['labels'][summary_sentiment['scores'].index(max(summary_sentiment['scores']))]\n",
    "    \n",
    "    if text_output == summary_output:\n",
    "        return 1\n",
    "    else:\n",
    "        return 0\n",
    "\n",
    "\n",
    "def detect_repetitive_phrases(input_string):\n",
    "    stopwords_set = set(stopwords.words('english'))\n",
    "    input_string = input_string.lower()\n",
    "    words = re.findall(r'\\b\\w+\\b', input_string)\n",
    "    words = [word for word in words if word not in stopwords_set]\n",
    "    phrases = [' '.join(t) for t in zip(words[:-2], words[1:-1], words[2:])]\n",
    "    phrase_counts = Counter(phrases)\n",
    "    repetitive_phrases = {phrase: count for phrase, count in phrase_counts.items() if count > 1}\n",
    "\n",
    "    if repetitive_phrases:    # if dictionary is not empty\n",
    "        return 1    # text contains repetitive phrases\n",
    "    else:\n",
    "        return 0    # no repetitive phrases found\n",
    "\n",
    "\n",
    "def keyword_overlap(text_a, text_b):\n",
    "    # Preprocess the text\n",
    "    text_a = preprocess_text(text_a)\n",
    "    text_b = preprocess_text(text_b)\n",
    "    \n",
    "    vectorizer = TfidfVectorizer()\n",
    "    tfidf_matrix = vectorizer.fit_transform([text_a, text_b])\n",
    "    overlap_score = cosine_similarity(tfidf_matrix[0:1], tfidf_matrix[1:2])[0][0]\n",
    "    return overlap_score\n",
    "    \n",
    "\n",
    "def sentence_similarity(sent_a, sent_b):\n",
    "    # Tokenize the input sentences\n",
    "    inputs = tokenizer([sent_a, sent_b], return_tensors=\"pt\", padding=True, truncation=True, max_length=512)\n",
    "    # Get the embeddings from the MiniLM model\n",
    "    with torch.no_grad():\n",
    "        outputs = model(**inputs)\n",
    "    embeddings = outputs.last_hidden_state.mean(dim=1)\n",
    "    # Calculate the similarity score\n",
    "    similarity_score = torch.nn.functional.cosine_similarity(embeddings[0].unsqueeze(0), embeddings[1].unsqueeze(0)).item()\n",
    "    return similarity_score\n",
    "\n",
    "\n",
    "def keyword_overlap(text_a, text_b):\n",
    "    vectorizer = TfidfVectorizer()\n",
    "    tfidf_matrix = vectorizer.fit_transform([text_a, text_b])\n",
    "    overlap_score = cosine_similarity(tfidf_matrix[0:1], tfidf_matrix[1:2])[0][0]\n",
    "    return overlap_score\n",
    "\n",
    "\n",
    "def readability(text):\n",
    "    preproc_text = preprocess_text(text)\n",
    "    return calculate_flesch_reading_ease(preproc_text)\n",
    "\n",
    "\n",
    "def count_noun_phrases(text):\n",
    "    text = preprocess_text(text)\n",
    "    blob = TextBlob(text)\n",
    "    return blob.noun_phrases\n",
    "\n",
    "\n",
    "def feature_highlighting(text, summary):\n",
    "    text = preprocess_text(text)\n",
    "    summary = preprocess_text(summary)\n",
    "    \n",
    "    text_features = set(count_noun_phrases(text))\n",
    "    summary_features = set(count_noun_phrases(summary))\n",
    "    \n",
    "    if not text_features and not summary_features:\n",
    "        return 0\n",
    "    \n",
    "    feature_coverage_score = len(text_features.intersection(summary_features)) / len(text_features)\n",
    "    return feature_coverage_score\n",
    "\n",
    "\n",
    "def extract_last_message(conversation):\n",
    "    # Split the conversation string into individual messages\n",
    "    messages = re.split(r'\\nUser:', conversation)\n",
    "    \n",
    "    # Remove any leading or trailing whitespace from each message\n",
    "    messages = [msg.strip() for msg in messages]\n",
    "    \n",
    "    # Identify the last message in the list of messages\n",
    "    last_message = messages[-1]\n",
    "    \n",
    "    return last_message\n",
    "\n",
    "\n",
    "def last_message_coverage(conversation, last_message, summary):\n",
    "    return sentence_similarity(last_message, summary)\n",
    "\n",
    "\n",
    "def context_inclusion(conversation, last_message, summary):\n",
    "    conv_similarity = sentence_similarity(conversation, summary)\n",
    "    last_msg_similarity = sentence_similarity(last_message, summary)\n",
    "    return conv_similarity / last_msg_similarity\n",
    "\n",
    "\n",
    "def pii_detection(summary, pii_list=[]):\n",
    "    # Check for Twitter handles\n",
    "    twitter_handle_pattern = r'@\\w+'\n",
    "    twitter_handles = re.findall(twitter_handle_pattern, summary)\n",
    "    \n",
    "    # Combine the PII list with the detected Twitter handles\n",
    "    combined_pii_list = pii_list + twitter_handles\n",
    "    \n",
    "    # Check if any PII elements are present in the summary\n",
    "    pii_present = any(pii in summary for pii in combined_pii_list)\n",
    "    \n",
    "    # Return 1 if no PII elements are present, 0 otherwise\n",
    "    return 1 if not pii_present else 0\n",
    "\n",
    "\n",
    "def product_name_presence(product_name, text, summary):\n",
    "    if summary.lower() == \"none\":\n",
    "        return 1\n",
    "    in_text = product_name.lower() in text.lower()\n",
    "    in_summary = product_name.lower() in summary.lower()\n",
    "    return int(in_text == in_summary)"
   ]
  },
  {
   "cell_type": "code",
   "execution_count": 7,
   "metadata": {},
   "outputs": [],
   "source": [
    "def evaluate_review_summary(product_name, text, summary):\n",
    "    # Metrics for RecordTypeReview\n",
    "    summary = preprocess_text(summary)\n",
    "    \n",
    "    coverage_score = keyword_overlap(text, summary)\n",
    "    \n",
    "    text_sentences = len(preprocess_text(text).split('.'))\n",
    "    summary_sentences = len(summary.split('.'))\n",
    "    summary_to_text_ratio = summary_sentences / text_sentences\n",
    "    conciseness_threshold = 0.4\n",
    "    conciseness_score = 1 if summary_to_text_ratio <= conciseness_threshold else 0\n",
    "    \n",
    "    raw_clarity_score = max(0, calculate_flesch_reading_ease(summary)) if summary.lower() != \"none\" else 0  # Set a lower limit of 0 for clarity_score\n",
    "    clarity_score = raw_clarity_score / 206.835\n",
    "    sentiment_align_score = sentiment_alignment(text, summary)\n",
    "    feature_highlight_score = feature_highlighting(text, summary)\n",
    "    \n",
    "    # Weights for RecordTypeReview\n",
    "    weights = {\n",
    "        \"coverage\": 0.25,\n",
    "        \"conciseness\": 0.1,\n",
    "        \"clarity\": 0.05,\n",
    "        \"sentiment_alignment\": 0.2,\n",
    "        \"feature_highlighting\": 0.2,\n",
    "    }\n",
    "    \n",
    "    # Calculate the final evaluation score\n",
    "    overall_score = (\n",
    "        coverage_score * weights[\"coverage\"]\n",
    "        + conciseness_score * weights[\"conciseness\"]\n",
    "        #+ clarity_score * weights[\"clarity\"]\n",
    "        + sentiment_align_score * weights[\"sentiment_alignment\"]\n",
    "        + feature_highlight_score * weights[\"feature_highlighting\"]\n",
    "    )\n",
    "    return {\n",
    "        \"coverage_score\": coverage_score,\n",
    "        #\"clarity_score\": clarity_score,\n",
    "        \"conciseness_score\": conciseness_score\n",
    "        \"sentiment_align_score\": sentiment_align_score,\n",
    "        \"feature_highlight_score\":feature_highlight_score,\n",
    "        \"overall_score\": overall_score\n",
    "    }\n",
    "\n",
    "def evaluate_forum_conversation_summary(text, last_message, summary, pii_list=[]):\n",
    "    # Metrics for RecordTypeForumConversation\n",
    "    summary = preprocess_text(summary)\n",
    "    \n",
    "    coverage_score = keyword_overlap(text, summary)\n",
    "    \n",
    "    text_sentences = len(preprocess_text(text).split('.'))\n",
    "    summary_sentences = len(summary.split('.'))\n",
    "    summary_to_text_ratio = summary_sentences / text_sentences\n",
    "    conciseness_threshold = 0.4\n",
    "    conciseness_score = 1 if summary_to_text_ratio <= conciseness_threshold else 0 \n",
    "    \n",
    "    raw_clarity_score = max(0, calculate_flesch_reading_ease(summary)) if summary.lower() != \"none\" else 0\n",
    "    clarity_score = raw_clarity_score / 206.835\n",
    "    last_msg_coverage_score = last_message_coverage(text, last_message, summary)\n",
    "    context_inclusion_score = context_inclusion(text, last_message, summary)\n",
    "    pii_removal_score = pii_removal(summary, pii_list)\n",
    "\n",
    "    # Weights for RecordTypeForumConversation\n",
    "    weights = {\n",
    "        \"coverage\": 0.25,\n",
    "        \"conciseness\": 0.1,\n",
    "        \"clarity\": 0.05,\n",
    "        \"last_message_coverage\": 0.5,\n",
    "        \"context_inclusion\": 0.2,\n",
    "        \"pii_removal\": 1.0,\n",
    "    }\n",
    "\n",
    "    # Calculate the final evaluation score\n",
    "    overall_score = (\n",
    "        coverage_score * weights[\"coverage\"]\n",
    "        + conciseness_score * weights[\"conciseness\"]\n",
    "        #+ clarity_score * weights[\"clarity\"]\n",
    "        + last_msg_coverage_score * weights[\"last_message_coverage\"]\n",
    "        + context_inclusion_score * weights[\"context_inclusion\"]\n",
    "        + pii_removal_score * weights[\"pii_removal\"]\n",
    "    )\n",
    "    return {\n",
    "        \"coverage_score\": coverage_score,\n",
    "        #\"clarity_score\": clarity_score,\n",
    "        \"conciseness_score\": conciseness_score,\n",
    "        \"last_message_coverage_score\": last_msg_coverage_score,\n",
    "        \"context_inclusion_score\":context_inclusion_score,\n",
    "        \"pii_removal_score\": pii_removal_score,\n",
    "        \"overall_score\": overall_score\n",
    "    }\n",
    "\n",
    "def evaluate_survey_summary(product_name, text, summary):\n",
    "    # Metrics for RecordTypeSurvey\n",
    "    summary = preprocess_text(summary)\n",
    "    \n",
    "    coverage_score = keyword_overlap(text, summary)\n",
    "\n",
    "    text_sentences = len(preprocess_text(text).split('.'))\n",
    "    summary_sentences = len(summary.split('.'))\n",
    "    summary_to_text_ratio = summary_sentences / text_sentences\n",
    "    conciseness_threshold = 0.4\n",
    "    conciseness_score = 1 if summary_to_text_ratio <= conciseness_threshold else 0     \n",
    "    \n",
    "    raw_clarity_score = max(0, calculate_flesch_reading_ease(summary)) if summary.lower() != \"none\" else 0\n",
    "    clarity_score = raw_clarity_score / 206.835\n",
    "    sentiment_align_score = sentiment_alignment(text, summary)\n",
    "    feature_highlight_score = feature_highlighting(text, summary)\n",
    "\n",
    "    # Weights for RecordTypeSurvey\n",
    "    weights = {\n",
    "        \"coverage\": 0.25,\n",
    "        \"conciseness\": 0.1,\n",
    "        \"clarity\": 0.05,\n",
    "        \"sentiment_alignment\": 0.2,\n",
    "        \"feature_highlighting\": 0.2,\n",
    "    }\n",
    "\n",
    "    # Calculate the final evaluation score\n",
    "    overall_score = (\n",
    "        coverage_score * weights[\"coverage\"]\n",
    "        + conciseness_score * weights[\"conciseness\"]\n",
    "        #+ clarity_score * weights[\"clarity\"]\n",
    "        + sentiment_align_score * weights[\"sentiment_alignment\"]\n",
    "        + feature_highlight_score * weights[\"feature_highlighting\"]\n",
    "    )\n",
    "    return {\n",
    "        \"coverage_score\": coverage_score,\n",
    "        #\"clarity_score\": clarity_score,\n",
    "        'conciseness_score':conciseness_score,\n",
    "        \"sentiment_align_score\": sentiment_align_score,\n",
    "        \"feature_highlight_score\":feature_highlight_score,\n",
    "        \"overall_score\": overall_score\n",
    "    }"
   ]
  },
  {
   "cell_type": "code",
   "execution_count": 8,
   "metadata": {},
   "outputs": [],
   "source": [
    "def evaluate_summary(record_type, text, summary, product_name=None, pii_list=[]):\n",
    "    if record_type == \"Appstore/Playstore\":\n",
    "        return evaluate_review_summary(product_name, text, summary)\n",
    "    elif record_type == \"Twitter\":\n",
    "        last_message = extract_last_message(text)\n",
    "        return evaluate_forum_conversation_summary(text, last_message, summary, pii_list)\n",
    "    elif record_type == \"G2\":\n",
    "        return evaluate_survey_summary(product_name, text, summary)\n",
    "    else:\n",
    "        raise ValueError(f\"Unknown record type: {record_type}\")"
   ]
  },
  {
   "cell_type": "code",
   "execution_count": 9,
   "metadata": {},
   "outputs": [
    {
     "data": {
      "text/html": [
       "<div>\n",
       "<style scoped>\n",
       "    .dataframe tbody tr th:only-of-type {\n",
       "        vertical-align: middle;\n",
       "    }\n",
       "\n",
       "    .dataframe tbody tr th {\n",
       "        vertical-align: top;\n",
       "    }\n",
       "\n",
       "    .dataframe thead th {\n",
       "        text-align: right;\n",
       "    }\n",
       "</style>\n",
       "<table border=\"1\" class=\"dataframe\">\n",
       "  <thead>\n",
       "    <tr style=\"text-align: right;\">\n",
       "      <th></th>\n",
       "      <th>Customer</th>\n",
       "      <th>Type</th>\n",
       "      <th>Text</th>\n",
       "      <th>Summary</th>\n",
       "    </tr>\n",
       "  </thead>\n",
       "  <tbody>\n",
       "    <tr>\n",
       "      <th>0</th>\n",
       "      <td>Notion</td>\n",
       "      <td>Appstore/Playstore</td>\n",
       "      <td>User: The app doesn't send sound or vibration ...</td>\n",
       "      <td>User finds the app useless without sound or vi...</td>\n",
       "    </tr>\n",
       "    <tr>\n",
       "      <th>1</th>\n",
       "      <td>Notion</td>\n",
       "      <td>Appstore/Playstore</td>\n",
       "      <td>User: This app changed my life, I can only say...</td>\n",
       "      <td>User praises the app, stating it has changed t...</td>\n",
       "    </tr>\n",
       "  </tbody>\n",
       "</table>\n",
       "</div>"
      ],
      "text/plain": [
       "  Customer                Type  \\\n",
       "0   Notion  Appstore/Playstore   \n",
       "1   Notion  Appstore/Playstore   \n",
       "\n",
       "                                                Text  \\\n",
       "0  User: The app doesn't send sound or vibration ...   \n",
       "1  User: This app changed my life, I can only say...   \n",
       "\n",
       "                                             Summary  \n",
       "0  User finds the app useless without sound or vi...  \n",
       "1  User praises the app, stating it has changed t...  "
      ]
     },
     "execution_count": 9,
     "metadata": {},
     "output_type": "execute_result"
    }
   ],
   "source": [
    "import pandas as pd\n",
    "\n",
    "\n",
    "df = pd.read_csv(\"Enterpret Summary Generation Assignment - final_public_train.csv\")\n",
    "df.head(2)"
   ]
  },
  {
   "cell_type": "code",
   "execution_count": 10,
   "metadata": {},
   "outputs": [
    {
     "name": "stdout",
     "output_type": "stream",
     "text": [
      "User: .what is your best productivity tool as an SME/ startup entrepreneur? For me, it's Notion/ Airtable for now. #SageForSmallBiz #SageForStartups\n",
      "User: @MorolongZA I love Notion but Airtable is one of my favourite tools ever. I used to spend so much time on ProductHunt. I think it’s time to discover some new stuff.\n",
      "User: @rumbimak .my sister please, wena you're a shareholder in Notion. I need to play around with an AI tool that generates presentation designs or formats so I can just edit. I waste so much time worrying about designs. Canva doesn't help no more\n",
      "User: @MorolongZA Firstly, @NotionHQ may as well give me shares at this point. Secondly, check out @MeetGamma. I haven’t used it yet but I’ve also been looking for the same solution.\n"
     ]
    }
   ],
   "source": [
    "print(df.query(\"Type=='Twitter'\")['Text'].iloc[500])"
   ]
  },
  {
   "cell_type": "code",
   "execution_count": 11,
   "metadata": {},
   "outputs": [
    {
     "name": "stdout",
     "output_type": "stream",
     "text": [
      "User: Helping with our discovery process for opportunity solutions trees, for roadmap and timelines, for anything really\n",
      "User: I love that there's \"infinite space\" , if you prep a presentation on ppt for example, you're limited to slides but with Miro the sky is the limit\n",
      "User: We have a business account and sometimes colleagues from other departments are part of a different account and we can't give them editing rights to the boards\n"
     ]
    }
   ],
   "source": [
    "print(df.query(\"Type=='G2'\")['Text'].iloc[230])"
   ]
  },
  {
   "cell_type": "code",
   "execution_count": 12,
   "metadata": {},
   "outputs": [],
   "source": [
    "df.columns = ['customer', 'type', 'text', 'summary']"
   ]
  },
  {
   "cell_type": "code",
   "execution_count": 13,
   "metadata": {},
   "outputs": [
    {
     "data": {
      "text/html": [
       "<div>\n",
       "<style scoped>\n",
       "    .dataframe tbody tr th:only-of-type {\n",
       "        vertical-align: middle;\n",
       "    }\n",
       "\n",
       "    .dataframe tbody tr th {\n",
       "        vertical-align: top;\n",
       "    }\n",
       "\n",
       "    .dataframe thead th {\n",
       "        text-align: right;\n",
       "    }\n",
       "</style>\n",
       "<table border=\"1\" class=\"dataframe\">\n",
       "  <thead>\n",
       "    <tr style=\"text-align: right;\">\n",
       "      <th></th>\n",
       "      <th>customer</th>\n",
       "      <th>type</th>\n",
       "      <th>text</th>\n",
       "      <th>summary</th>\n",
       "    </tr>\n",
       "  </thead>\n",
       "  <tbody>\n",
       "    <tr>\n",
       "      <th>0</th>\n",
       "      <td>Notion</td>\n",
       "      <td>Appstore/Playstore</td>\n",
       "      <td>User: The app doesn't send sound or vibration ...</td>\n",
       "      <td>User finds the app useless without sound or vi...</td>\n",
       "    </tr>\n",
       "    <tr>\n",
       "      <th>1</th>\n",
       "      <td>Notion</td>\n",
       "      <td>Appstore/Playstore</td>\n",
       "      <td>User: This app changed my life, I can only say...</td>\n",
       "      <td>User praises the app, stating it has changed t...</td>\n",
       "    </tr>\n",
       "  </tbody>\n",
       "</table>\n",
       "</div>"
      ],
      "text/plain": [
       "  customer                type  \\\n",
       "0   Notion  Appstore/Playstore   \n",
       "1   Notion  Appstore/Playstore   \n",
       "\n",
       "                                                text  \\\n",
       "0  User: The app doesn't send sound or vibration ...   \n",
       "1  User: This app changed my life, I can only say...   \n",
       "\n",
       "                                             summary  \n",
       "0  User finds the app useless without sound or vi...  \n",
       "1  User praises the app, stating it has changed t...  "
      ]
     },
     "execution_count": 13,
     "metadata": {},
     "output_type": "execute_result"
    }
   ],
   "source": [
    "df.head(2)"
   ]
  },
  {
   "cell_type": "code",
   "execution_count": 14,
   "metadata": {},
   "outputs": [
    {
     "name": "stdout",
     "output_type": "stream",
     "text": [
      "(5009, 4)\n",
      "Data after dropping null values: (4001, 4)\n",
      "Data after dropping duplicate rows: (4001, 4)\n"
     ]
    }
   ],
   "source": [
    "print(df.shape)\n",
    "\n",
    "df = df.dropna()\n",
    "print(f\"Data after dropping null values: {df.shape}\")\n",
    "\n",
    "df = df.drop_duplicates(keep='first')\n",
    "\n",
    "print(f\"Data after dropping duplicate rows: {df.shape}\")"
   ]
  },
  {
   "cell_type": "code",
   "execution_count": 15,
   "metadata": {},
   "outputs": [
    {
     "name": "stdout",
     "output_type": "stream",
     "text": [
      "Data after dropping rows w/ empty strings: (3982, 4)\n"
     ]
    }
   ],
   "source": [
    "def is_empty_string(value):\n",
    "    return value.strip() == \"\"\n",
    "\n",
    "empty_string_check = df[['text', 'summary']].applymap(is_empty_string)\n",
    "df = df[~empty_string_check.any(axis=1)]\n",
    "print(f\"Data after dropping rows w/ empty strings: {df.shape}\")"
   ]
  },
  {
   "cell_type": "code",
   "execution_count": 16,
   "metadata": {},
   "outputs": [],
   "source": [
    "appstore_df = df[df['type'] == 'Appstore/Playstore']\n",
    "twitter_df = df[df['type'] == 'Twitter']\n",
    "g2_df = df[df['type'] == 'G2']"
   ]
  },
  {
   "cell_type": "code",
   "execution_count": 17,
   "metadata": {},
   "outputs": [
    {
     "name": "stdout",
     "output_type": "stream",
     "text": [
      "(398, 4)\n",
      "(2639, 4)\n",
      "(945, 4)\n"
     ]
    }
   ],
   "source": [
    "print(g2_df.shape)\n",
    "print(twitter_df.shape)\n",
    "print(appstore_df.shape)"
   ]
  },
  {
   "cell_type": "code",
   "execution_count": 18,
   "metadata": {},
   "outputs": [
    {
     "name": "stderr",
     "output_type": "stream",
     "text": [
      "100%|██████████| 398/398 [22:21<00:00,  3.37s/it]\n"
     ]
    }
   ],
   "source": [
    "import pandas as pd\n",
    "from tqdm import tqdm\n",
    "\n",
    "# Register the progress_apply function with pandas\n",
    "tqdm.pandas()\n",
    "\n",
    "g2_df_features = g2_df.progress_apply(\n",
    "    lambda row: evaluate_summary(\n",
    "        row['type'],\n",
    "        row['text'],\n",
    "        row['summary'],\n",
    "        product_name=row.get('customer'),\n",
    "    ),\n",
    "    axis=1\n",
    ")"
   ]
  },
  {
   "cell_type": "code",
   "execution_count": 19,
   "metadata": {},
   "outputs": [
    {
     "name": "stderr",
     "output_type": "stream",
     "text": [
      "/tmp/ipykernel_169748/1436586940.py:2: SettingWithCopyWarning: \n",
      "A value is trying to be set on a copy of a slice from a DataFrame.\n",
      "Try using .loc[row_indexer,col_indexer] = value instead\n",
      "\n",
      "See the caveats in the documentation: https://pandas.pydata.org/pandas-docs/stable/user_guide/indexing.html#returning-a-view-versus-a-copy\n",
      "  g2_df['row_number'] = g2_df.index\n"
     ]
    }
   ],
   "source": [
    "g2_df.reset_index(drop=True, inplace=True)\n",
    "g2_df['row_number'] = g2_df.index\n",
    "\n",
    "g2_df_features_df = pd.DataFrame(g2_df_features.tolist())\n",
    "g2_df_features_df.reset_index(drop=True, inplace=True)\n",
    "g2_df_features_df['row_number'] = g2_df_features_df.index\n",
    "\n",
    "merged_g2_df = pd.merge(g2_df, g2_df_features_df, on='row_number', how='inner')\n",
    "\n",
    "merged_g2_df.drop(columns=['row_number'], inplace=True)"
   ]
  },
  {
   "cell_type": "code",
   "execution_count": 20,
   "metadata": {},
   "outputs": [
    {
     "data": {
      "image/png": "[encoded data removed]",
      "text/plain": [
       "<Figure size 1000x600 with 1 Axes>"
      ]
     },
     "metadata": {},
     "output_type": "display_data"
    }
   ],
   "source": [
    "import seaborn as sns\n",
    "import matplotlib.pyplot as plt\n",
    "\n",
    "sns.set(style=\"whitegrid\")\n",
    "plt.figure(figsize=(10, 6))\n",
    "sns.histplot(data=merged_g2_df, x=\"overall_score\", hue=\"type\", kde=True, bins=20)\n",
    "plt.title(\"Evaluation Scores' Histogram Distribution by Type\")\n",
    "plt.show()\n"
   ]
  },
  {
   "cell_type": "code",
   "execution_count": 44,
   "metadata": {},
   "outputs": [
    {
     "data": {
      "text/html": [
       "<div>\n",
       "<style scoped>\n",
       "    .dataframe tbody tr th:only-of-type {\n",
       "        vertical-align: middle;\n",
       "    }\n",
       "\n",
       "    .dataframe tbody tr th {\n",
       "        vertical-align: top;\n",
       "    }\n",
       "\n",
       "    .dataframe thead th {\n",
       "        text-align: right;\n",
       "    }\n",
       "</style>\n",
       "<table border=\"1\" class=\"dataframe\">\n",
       "  <thead>\n",
       "    <tr style=\"text-align: right;\">\n",
       "      <th></th>\n",
       "      <th>customer</th>\n",
       "      <th>type</th>\n",
       "      <th>text</th>\n",
       "      <th>summary</th>\n",
       "      <th>coverage_score</th>\n",
       "      <th>clarity_score</th>\n",
       "      <th>sentiment_align_score</th>\n",
       "      <th>feature_highlight_score</th>\n",
       "      <th>overall_score</th>\n",
       "    </tr>\n",
       "  </thead>\n",
       "  <tbody>\n",
       "    <tr>\n",
       "      <th>397</th>\n",
       "      <td>figma</td>\n",
       "      <td>G2</td>\n",
       "      <td>User: Web meetings with employees in offices f...</td>\n",
       "      <td>The product is helping the User to organize th...</td>\n",
       "      <td>0.356700</td>\n",
       "      <td>0.0</td>\n",
       "      <td>0</td>\n",
       "      <td>0.0</td>\n",
       "      <td>0.163993</td>\n",
       "    </tr>\n",
       "    <tr>\n",
       "      <th>264</th>\n",
       "      <td>figma</td>\n",
       "      <td>G2</td>\n",
       "      <td>User: FigJam allows me and my team to quickly ...</td>\n",
       "      <td>Users appreciate Figma for enabling remote ide...</td>\n",
       "      <td>0.208182</td>\n",
       "      <td>0.0</td>\n",
       "      <td>0</td>\n",
       "      <td>0.0</td>\n",
       "      <td>0.094521</td>\n",
       "    </tr>\n",
       "    <tr>\n",
       "      <th>269</th>\n",
       "      <td>figma</td>\n",
       "      <td>G2</td>\n",
       "      <td>User: Being able to run ideation sessions with...</td>\n",
       "      <td>Users appreciate Figjam for its ease of use, t...</td>\n",
       "      <td>0.232098</td>\n",
       "      <td>0.0</td>\n",
       "      <td>0</td>\n",
       "      <td>0.0</td>\n",
       "      <td>0.129105</td>\n",
       "    </tr>\n",
       "    <tr>\n",
       "      <th>272</th>\n",
       "      <td>figma</td>\n",
       "      <td>G2</td>\n",
       "      <td>User: Keeping large collections readible and d...</td>\n",
       "      <td>The user appreciates FigJam for its ease in cr...</td>\n",
       "      <td>0.258288</td>\n",
       "      <td>0.0</td>\n",
       "      <td>0</td>\n",
       "      <td>0.0</td>\n",
       "      <td>0.143870</td>\n",
       "    </tr>\n",
       "    <tr>\n",
       "      <th>79</th>\n",
       "      <td>figma</td>\n",
       "      <td>G2</td>\n",
       "      <td>User: How might we collaborate efficiently in ...</td>\n",
       "      <td>Users appreciate Miro's ability to align remot...</td>\n",
       "      <td>0.220212</td>\n",
       "      <td>0.0</td>\n",
       "      <td>0</td>\n",
       "      <td>0.0</td>\n",
       "      <td>0.092730</td>\n",
       "    </tr>\n",
       "  </tbody>\n",
       "</table>\n",
       "</div>"
      ],
      "text/plain": [
       "    customer type                                               text  \\\n",
       "397    figma   G2  User: Web meetings with employees in offices f...   \n",
       "264    figma   G2  User: FigJam allows me and my team to quickly ...   \n",
       "269    figma   G2  User: Being able to run ideation sessions with...   \n",
       "272    figma   G2  User: Keeping large collections readible and d...   \n",
       "79     figma   G2  User: How might we collaborate efficiently in ...   \n",
       "\n",
       "                                               summary  coverage_score  \\\n",
       "397  The product is helping the User to organize th...        0.356700   \n",
       "264  Users appreciate Figma for enabling remote ide...        0.208182   \n",
       "269  Users appreciate Figjam for its ease of use, t...        0.232098   \n",
       "272  The user appreciates FigJam for its ease in cr...        0.258288   \n",
       "79   Users appreciate Miro's ability to align remot...        0.220212   \n",
       "\n",
       "     clarity_score  sentiment_align_score  feature_highlight_score  \\\n",
       "397            0.0                      0                      0.0   \n",
       "264            0.0                      0                      0.0   \n",
       "269            0.0                      0                      0.0   \n",
       "272            0.0                      0                      0.0   \n",
       "79             0.0                      0                      0.0   \n",
       "\n",
       "     overall_score  \n",
       "397       0.163993  \n",
       "264       0.094521  \n",
       "269       0.129105  \n",
       "272       0.143870  \n",
       "79        0.092730  "
      ]
     },
     "execution_count": 44,
     "metadata": {},
     "output_type": "execute_result"
    }
   ],
   "source": [
    "merged_g2_df.sort_values(by=\"clarity_score\", ascending=True).head()"
   ]
  },
  {
   "cell_type": "code",
   "execution_count": 40,
   "metadata": {},
   "outputs": [
    {
     "data": {
      "text/plain": [
       "array([['figma', 'G2',\n",
       "        'User: I have created a Creative Hack workshop template which I use to help teams and clients come up with ideas. \\nI\\'ll also use Miro for other team tasks in which multiple people need to make inputs. \\nIts helpful for capturing a large amount of information in a little amount time, and ultimately making sense of those inputs.\\nUser: I describe Miro as an Adobe Illustrator Group Chat. I love the drag and drop flexibility of it and ease of use, which allows me to capture ideas and feedback in real time. Even when I\\'m working with large groups of people, the tool enables me to synthesize conversations and sharebacks in a way that captures the essence of a meeting.\\nUser: I have a few small feedback options for Miro. \\n \\n1. For some reason I am forced to put a password on a board when I make it publically editable. It didn\\'t used to be like this and I find it annoying that I have to do that every time. I end up just saying \"miroboard\" for everything. \\n \\n2. When I invite outside of my org participants to join a board. Via the UX they often think they have to sign up to view the board, which leads to time lost in the session correcting them and getting them to the board as a guest quickly. \\n \\n3. Not sure if this is still the case but I wish I could give people outside of my \"team\" permission to lock objects. I work across teams so sometimes I\\'m unable to lock assets on colleagues\\' boards and vice versa.',\n",
       "        \"Users appreciate the simplicity of Figma's whiteboard tool for organization and find it easy to use. However, they preferred the free plan and find connecting arrows in reverse to be tricky.\",\n",
       "        0.38827860077268983, 0.21455001142409771, 0, 0.0,\n",
       "        0.12093274398471633],\n",
       "       ['figma', 'G2',\n",
       "        \"User: MIRO helps me manage a project schedule with complex deliverables, timeline, swimlane owners, and key cross-functional dependencies. It also helps with basic product roadmap and innovation planning. The visual appeal is also helpful as it can serve as a presentation board for senior management presentations.\\nUser: MIRO is an ideal tool for facilitating collaboration across teams or large groups. I use it with my teams for a variety of applications, including planning project schedules, brainstorming ideas, mapping out solutions and process flow diagrams. It is highly flexible, allowing the user to define the structure and content. I really like the ease of use and the infinite space, which allows you to constantly be adding to existing boards. There are many existing templates that help provide a good starting point for collaboration.\\nUser: One of the challenges that we've seen is integration with other software. I'd like to see a more seamless integration with MS Excel--for instance, the ability to capture live Excel spreadsheets in MIRO that are auto-updates as the underlying Excel sheet changes.\",\n",
       "        'The user appreciates the collaboration features of Miro, which allow team members to work together regardless of location. They also appreciate the digital whiteboard, which allows teams to capture ideas, organize information, and make decisions in real-time. The user finds the tool easy to use and appreciates the zoom in/zoom out feature. However, they find it challenging to use from mobile internet due to the high-speed internet requirement.',\n",
       "        0.3898496211785071, 0.0, 0, 0.0, 0.13626704401005943],\n",
       "       ['figma', 'G2',\n",
       "        \"User: Agile retrospectives, root cause analysis, visualizing a road map, placing tasks in a schedule. Allows team to interactively edit at the same time. More efficient.\\nUser: We were able to use an existing Miro template for a Fishbone diagram (Ashikawa) diagram for determining root cause analysis. Very well received by the audience. We broke into 5 team who each used the template to populate root cause post-its.\\nUser: I wish the zoom percentage was user definable. There are times when the pre-defined options don't fit my screen well. Either it is too small to read the text in the post-its or it is too large to show the full size of the diagram. It would be great to be allowed to enter a custom percentage.\",\n",
       "        \"The user is benefiting from Figma's product by being able to visually map out and share their thoughts with colleagues. This is an improvement from the free tools they used in the past, which lacked many features that Figma offers. The User enjoys being able to collaborate with colleagues in a visual way, allowing them to easily problem-solve and make actionable next steps. The User found it took some time to become familiar with all of the features of the product.\",\n",
       "        0.3898902547220864, 0.041998049975423314, 0, 0.0,\n",
       "        0.16395794103962796],\n",
       "       ['figma', 'G2',\n",
       "        \"User: It gives our design team an easy to use whiteboard app where we can brainstorm and participate in other team activities\\nUser: I love all the collaboration features and the great UX. Every part of the app is very thoughtfully designed and delightful to use.\\nUser: There are so many little features everywhere that it can be hard to remember where to find things. I don't use it every day and spend most of my time in Figma\",\n",
       "        \"The design team finds Figma easy to use, with good documentation and training available, allowing them to design user journeys and feature mocks efficiently. The tool's organization and sharing capabilities are appreciated. However, one user found it challenging to learn the controls for navigation and zooming, suggesting a potential improvement in user onboarding.\",\n",
       "        0.40479912570719945, 0.02219616310695209, 0, 0.2,\n",
       "        0.2263845310341381],\n",
       "       ['figma', 'G2',\n",
       "        \"User: Our Design team needed a tool that is easy to use and with good documentation and training available. This tool also needed to be able to share with anyone in the company. By having organization in the tool (teams, pages, etc.) , it also makes it easy to find what is needed.\\nUser: An easy-to-use tool that allows Design to easily design needed user journeys and feature mocks. They can then easily share with their team(s) and make changes on the fly when needed. The UI is fairly intuitive as well.\\nUser: Maybe it's just me but I found it a bit hard to learn the controls to navigate the tool as someone new to it. Took me longer than I like to admit to know how to zoom in and move around properly. This is likely a me issue more than a UI issue but I wanted to mention it.\",\n",
       "        \"The user appreciates the flexibility and timer function of the tool, but finds it difficult to see other members' boards and suggests improving the board design to make it easier to identify projects.\",\n",
       "        0.4550760972011996, 0.21832949848034347, 0, 0.0,\n",
       "        0.1498773150810946]], dtype=object)"
      ]
     },
     "execution_count": 40,
     "metadata": {},
     "output_type": "execute_result"
    }
   ],
   "source": [
    "merged_g2_df.sort_values(by=\"coverage_score\", ascending=True).tail().values"
   ]
  },
  {
   "cell_type": "code",
   "execution_count": 30,
   "metadata": {},
   "outputs": [
    {
     "name": "stdout",
     "output_type": "stream",
     "text": [
      "{'sequence': 'user lack of freeform tools on the market with lots of customization which is why i prefer miro to its competitors that ive tried user the flexibility to collaborate with others and mainly the freeform design user text box limits lack of automatic spell correction constant new featureupdate popups', 'labels': ['mixed', 'positive', 'negative'], 'scores': [0.5406626462936401, 0.2918400764465332, 0.16749729216098785]}\n",
      "{'sequence': 'the user appreciates the flexibility accessibility and ease of use of the miro board which allows for collaborative input effort and process management they also appreciate the ability to track changes and revert changes through the history the user also mentions that the large miro board may take time to load and some setup may be unlocked causing unintentional movement the user also mentions that the page upload is blurry and slow', 'labels': ['mixed', 'positive', 'negative'], 'scores': [0.6433013081550598, 0.3534436821937561, 0.003255007090047002]}\n"
     ]
    }
   ],
   "source": [
    "zsp = pipeline(\"zero-shot-classification\", model=\"facebook/bart-large-mnli\", return_all_scores=False)\n",
    "\n",
    "text = \"User: lack of freeform tools on the market with lots of customization, which is why I prefer Miro to its competitors that I've tried\\nUser: the flexibility to collaborate with others, and mainly the freeform design\\nUser: text box limits, lack of automatic spell correction, constant new feature/update pop-ups\"\n",
    "summary = 'The user appreciates the flexibility, accessibility, and ease of use of the Miro board, which allows for collaborative input, effort, and process management. They also appreciate the ability to track changes and revert changes through the history. The user also mentions that the large Miro board may take time to load, and some setup may be unlocked, causing unintentional movement. The user also mentions that the page upload is blurry and slow.'\n",
    "\n",
    "\n",
    "text = preprocess_text(text)\n",
    "summary = preprocess_text(summary)\n",
    "        \n",
    "# Define the class names\n",
    "class_names = [\"positive\", \"negative\", \"mixed\"]\n",
    "    \n",
    "    # Get sentiment scores using the BART-large-mnli model\n",
    "text_sentiment = zsp(text, class_names)\n",
    "summary_sentiment = zsp(summary, class_names)\n",
    "\n",
    "print(text_sentiment)\n",
    "print(summary_sentiment)"
   ]
  },
  {
   "cell_type": "code",
   "execution_count": 33,
   "metadata": {},
   "outputs": [
    {
     "data": {
      "text/plain": [
       "'mixed'"
      ]
     },
     "execution_count": 33,
     "metadata": {},
     "output_type": "execute_result"
    }
   ],
   "source": [
    "text_sentiment['labels'][text_sentiment['scores'].index(max(text_sentiment['scores']))]"
   ]
  },
  {
   "cell_type": "code",
   "execution_count": 46,
   "metadata": {},
   "outputs": [
    {
     "data": {
      "text/plain": [
       "1"
      ]
     },
     "execution_count": 46,
     "metadata": {},
     "output_type": "execute_result"
    }
   ],
   "source": [
    "sentiment_alignment(text, summary)"
   ]
  },
  {
   "cell_type": "code",
   "execution_count": null,
   "metadata": {},
   "outputs": [
    {
     "name": "stderr",
     "output_type": "stream",
     "text": [
      "100%|██████████| 945/945 [01:33<00:00, 10.12it/s]\n"
     ]
    }
   ],
   "source": [
    "# Apply the evaluate_summary function with a progress bar\n",
    "appstore_df_features = appstore_df.progress_apply(\n",
    "    lambda row: evaluate_summary(\n",
    "        row['type'],\n",
    "        row['text'],\n",
    "        row['summary'],\n",
    "        product_name=row.get('customer'),\n",
    "    ),\n",
    "    axis=1\n",
    ")\n",
    "appstore_df = appstore_df.merge(pd.DataFrame(appstore_df_features.tolist()))"
   ]
  },
  {
   "cell_type": "code",
   "execution_count": 29,
   "metadata": {},
   "outputs": [
    {
     "name": "stdout",
     "output_type": "stream",
     "text": [
      "Coverage Score: 0.0\n",
      "Conciseness Score: 0.11643835616438356\n",
      "Clarity Score: 119.19000000000003\n",
      "Sentiment Alignment Score: 0.75\n",
      "Feature Highlighting Score: 0.0\n",
      "Product Name Score: 1\n"
     ]
    }
   ],
   "source": [
    "# Sample texts\n",
    "row = df[df['type']=='Twitter'].sort_values(by=\"evaluation_score\", ascending=True).iloc[-1]\n",
    "product_name = row['customer']\n",
    "text = row['text']\n",
    "summary = row['summary']\n",
    "\n",
    "# Calculate individual components\n",
    "coverage_score = keyword_overlap(text, summary)\n",
    "conciseness_score = len(summary) / len(text)\n",
    "clarity_score = max(0, calculate_flesch_reading_ease(summary))\n",
    "sentiment_align_score = sentiment_alignment(text, summary)\n",
    "feature_highlight_score = feature_highlighting(text, summary)\n",
    "product_name_score = product_name_presence(product_name, text, summary)\n",
    "\n",
    "# Print the results\n",
    "print(\"Coverage Score:\", coverage_score)\n",
    "print(\"Conciseness Score:\", conciseness_score)\n",
    "print(\"Clarity Score:\", clarity_score)\n",
    "print(\"Sentiment Alignment Score:\", sentiment_align_score)\n",
    "print(\"Feature Highlighting Score:\", feature_highlight_score)\n",
    "print(\"Product Name Score:\", product_name_score)"
   ]
  },
  {
   "cell_type": "code",
   "execution_count": null,
   "metadata": {},
   "outputs": [],
   "source": []
  }
 ],
 "metadata": {
  "kernelspec": {
   "display_name": "venv",
   "language": "python",
   "name": "python3"
  },
  "language_info": {
   "codemirror_mode": {
    "name": "ipython",
    "version": 3
   },
   "file_extension": ".py",
   "mimetype": "text/x-python",
   "name": "python",
   "nbconvert_exporter": "python",
   "pygments_lexer": "ipython3",
   "version": "3.9.16"
  },
  "orig_nbformat": 4
 },
 "nbformat": 4,
 "nbformat_minor": 2
}
